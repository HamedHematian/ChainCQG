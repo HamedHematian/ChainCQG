{
 "cells": [
  {
   "cell_type": "code",
   "execution_count": 2,
   "metadata": {},
   "outputs": [],
   "source": [
    "import pickle\n",
    "import json"
   ]
  },
  {
   "cell_type": "code",
   "execution_count": 3,
   "metadata": {},
   "outputs": [],
   "source": [
    "with open(\"outputs/gpt2-base/coqa_generated_text\", \"rb\") as f:\n",
    "    coqa_base = pickle.load(f)\n",
    "with open(\"outputs/gpt2-medium/coqa_generated_text\", \"rb\") as f:\n",
    "    coqa_medium = pickle.load(f)"
   ]
  },
  {
   "cell_type": "code",
   "execution_count": 10,
   "metadata": {},
   "outputs": [],
   "source": [
    "for a,b in zip(coqa_base, coqa_medium):\n",
    "    assert a[\"context\"] == b[\"context\"]\n",
    "    assert a[\"label\"] == b[\"label\"]"
   ]
  },
  {
   "cell_type": "code",
   "execution_count": null,
   "metadata": {},
   "outputs": [],
   "source": []
  },
  {
   "cell_type": "code",
   "execution_count": null,
   "metadata": {},
   "outputs": [],
   "source": []
  },
  {
   "cell_type": "code",
   "execution_count": 11,
   "metadata": {},
   "outputs": [],
   "source": [
    "def process(coqa):\n",
    "    for one in coqa:\n",
    "        for key in one:\n",
    "            one[key] = one[key][3:-4]\n",
    "        context = one[\"context\"].split(\"<SEP>\")\n",
    "        assert len(context)==2\n",
    "        one[\"dialog_history\"] = context[1]\n",
    "        one[\"context\"] = context[0]\n",
    "process(coqa_base)\n",
    "process(coqa_medium)"
   ]
  },
  {
   "cell_type": "code",
   "execution_count": 18,
   "metadata": {},
   "outputs": [],
   "source": [
    "with open(\"coqa_gpt_base.json\", \"w\") as f:\n",
    "    json.dump(coqa_base, f, indent=2)"
   ]
  },
  {
   "cell_type": "code",
   "execution_count": 15,
   "metadata": {},
   "outputs": [
    {
     "data": {
      "text/plain": [
       "{'context': 'Once upon a time, in a barn near a farm house, there lived a little white kitten named Cotton. Cotton lived high up in a nice warm place above the barn where all of the farmer\\'s horses slept. But Cotton wasn\\'t alone in her little home above the barn, oh no. She shared her hay bed with her mommy and 5 other sisters. All of her sisters were cute and fluffy, like Cotton. But she was the only white one in the bunch. The rest of her sisters were all orange with beautiful white tiger stripes like Cotton\\'s mommy. {hl_token}Being different made Cotton quite sad{hl_token}. She often wished she looked like the rest of her family. So one day, when Cotton found a can of the old farmer\\'s orange paint, she used it to paint herself like them. When her mommy and sisters found her they started laughing. \\n\\n\"What are you doing, Cotton?!\" \\n\\n\"I only wanted to be more like you\". \\n\\nCotton\\'s mommy rubbed her face on Cotton\\'s and said \"Oh Cotton, but your fur is so pretty and special, like you. We would never want you to be any other way\". And with that, Cotton\\'s mommy picked her up and dropped her into a big bucket of water. When Cotton came out she was herself again. Her sisters licked her face until Cotton\\'s fur was all all dry. \\n\\n\"Don\\'t ever do that again, Cotton!\" they all cried. \"Next time you might mess up that pretty white fur of yours and we wouldn\\'t want that!\" \\n\\nThen Cotton thought, \"I change my mind. I like being special\".',\n",
       " 'label': 'Was Cotton happy that she looked different than the rest of her family?',\n",
       " 'prediction': 'Was she happy with them?',\n",
       " 'dialog_history': 'with her mommy and 5 sisters. Who did she live with? orange and white. What color were her sisters? no.'}"
      ]
     },
     "execution_count": 15,
     "metadata": {},
     "output_type": "execute_result"
    }
   ],
   "source": [
    "coqa_base[5]"
   ]
  },
  {
   "cell_type": "code",
   "execution_count": 16,
   "metadata": {},
   "outputs": [],
   "source": [
    "import copy\n",
    "coqa_gpt = []\n",
    "for one in zip(coqa_base, coqa_medium):\n",
    "    coqa_gpt.append({\n",
    "        \"context\":one[0][\"context\"],\n",
    "        \"dialog_history\":one[0][\"dialog_history\"],\n",
    "        \"laebl\":one[0][\"label\"],\n",
    "        \"gpt-base-prediction\":one[0][\"prediction\"],\n",
    "        \"gpt-medium-prediction\":one[1][\"prediction\"]\n",
    "                    })"
   ]
  },
  {
   "cell_type": "code",
   "execution_count": 18,
   "metadata": {},
   "outputs": [],
   "source": [
    "with open(\"coqa_gpt.json\", \"w\") as f:\n",
    "    json.dump(coqa_base, f, indent=2)"
   ]
  },
  {
   "cell_type": "code",
   "execution_count": null,
   "metadata": {},
   "outputs": [],
   "source": []
  }
 ],
 "metadata": {
  "kernelspec": {
   "display_name": "Python 3",
   "language": "python",
   "name": "python3"
  },
  "language_info": {
   "codemirror_mode": {
    "name": "ipython",
    "version": 3
   },
   "file_extension": ".py",
   "mimetype": "text/x-python",
   "name": "python",
   "nbconvert_exporter": "python",
   "pygments_lexer": "ipython3",
   "version": "3.7.4"
  }
 },
 "nbformat": 4,
 "nbformat_minor": 2
}
