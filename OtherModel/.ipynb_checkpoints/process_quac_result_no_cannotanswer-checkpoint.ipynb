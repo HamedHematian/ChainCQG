{
 "cells": [
  {
   "cell_type": "code",
   "execution_count": 5,
   "metadata": {},
   "outputs": [],
   "source": [
    "import json\n",
    "import pickle\n",
    "with open(\"outputs/gpt2-base/quac_generated_text\", \"rb\") as f:\n",
    "    base = pickle.load(f)\n",
    "\n",
    "with open(\"outputs/gpt2-medium/quac_generated_text\", \"rb\") as f:\n",
    "    medium = pickle.load(f)"
   ]
  },
  {
   "cell_type": "code",
   "execution_count": 6,
   "metadata": {},
   "outputs": [
    {
     "data": {
      "text/plain": [
       "{'context': '<s>The diary gives a detailed account of Pepys\\' personal life. {hl_token}He liked wine, plays, and the company of other people. He also spent time evaluating his fortune and his place in the world.{hl_token} He was always curious and often acted on that curiosity, as he acted upon almost all his impulses. Periodically, he would resolve to devote more time to hard work instead of leisure. For example, in his entry for New Year\\'s Eve, 1661, he writes: \"I have newly taken a solemn oath about abstaining from plays and wine...\" The following months reveal his lapses to the reader; by 17 February, it is recorded, \"Here I drank wine upon necessity, being ill for the want of it.\" Pepys was one of the most important civil servants of his age, and was also a widely cultivated man, taking an interest in books, music, the theatre and science. He was passionately interested in music; he composed, sang, and played for pleasure, and even arranged music lessons for his servants. He played the lute, viol, violin, flageolet, recorder and spinet to varying degrees of proficiency. He was also a keen singer, performing at home, in coffee houses, and even in Westminster Abbey. He and his wife took flageolet lessons from master Thomas Greeting. He also taught his wife to sing and paid for dancing lessons for her (although these stopped when he became jealous of the dancing master). Pepys was known to be brutal to his servants, once beating a servant Jane with a broom until she cried. He kept a boy servant whom he frequently beat with a cane, a birch rod, a whip or a rope\\'s end. CANNOTANSWER<SEP>He and his wife took flageolet lessons Did Pepys have a wife? CANNOTANSWER Does he have any children? <SEP>He liked wine, plays, and the company of other people. He also spent time evaluating his fortune and his place in the world.<What></s>',\n",
       " 'label': '<s>What did he do in his personal life?</s>',\n",
       " 'prediction': '<s>What happened in his personal life?</s>'}"
      ]
     },
     "execution_count": 6,
     "metadata": {},
     "output_type": "execute_result"
    }
   ],
   "source": [
    "base[10]"
   ]
  },
  {
   "cell_type": "code",
   "execution_count": 7,
   "metadata": {},
   "outputs": [
    {
     "data": {
      "text/plain": [
       "{'context': '<s>The diary gives a detailed account of Pepys\\' personal life. {hl_token}He liked wine, plays, and the company of other people. He also spent time evaluating his fortune and his place in the world.{hl_token} He was always curious and often acted on that curiosity, as he acted upon almost all his impulses. Periodically, he would resolve to devote more time to hard work instead of leisure. For example, in his entry for New Year\\'s Eve, 1661, he writes: \"I have newly taken a solemn oath about abstaining from plays and wine...\" The following months reveal his lapses to the reader; by 17 February, it is recorded, \"Here I drank wine upon necessity, being ill for the want of it.\" Pepys was one of the most important civil servants of his age, and was also a widely cultivated man, taking an interest in books, music, the theatre and science. He was passionately interested in music; he composed, sang, and played for pleasure, and even arranged music lessons for his servants. He played the lute, viol, violin, flageolet, recorder and spinet to varying degrees of proficiency. He was also a keen singer, performing at home, in coffee houses, and even in Westminster Abbey. He and his wife took flageolet lessons from master Thomas Greeting. He also taught his wife to sing and paid for dancing lessons for her (although these stopped when he became jealous of the dancing master). Pepys was known to be brutal to his servants, once beating a servant Jane with a broom until she cried. He kept a boy servant whom he frequently beat with a cane, a birch rod, a whip or a rope\\'s end. CANNOTANSWER<SEP>He and his wife took flageolet lessons Did Pepys have a wife? CANNOTANSWER Does he have any children? <SEP>He liked wine, plays, and the company of other people. He also spent time evaluating his fortune and his place in the world.<What></s>',\n",
       " 'label': '<s>What did he do in his personal life?</s>',\n",
       " 'prediction': '<s>What did he like to do?</s>'}"
      ]
     },
     "execution_count": 7,
     "metadata": {},
     "output_type": "execute_result"
    }
   ],
   "source": [
    "medium[10]"
   ]
  },
  {
   "cell_type": "code",
   "execution_count": 17,
   "metadata": {},
   "outputs": [],
   "source": [
    "total = []\n",
    "for a,b in zip(base, medium):\n",
    "    one = {}\n",
    "    assert a[\"context\"]==b[\"context\"]\n",
    "    assert a[\"label\"] == b[\"label\"]\n",
    "    [p_context, dialog_context] = process_context(a[\"context\"])\n",
    "    one[\"context\"] = p_context\n",
    "    one[\"dialog_history\"] = dialog_context\n",
    "    one[\"label\"] = a[\"label\"]\n",
    "    one[\"base-prediction\"] = a[\"prediction\"]\n",
    "    one[\"medium-prediction\"] = b[\"prediction\"]\n",
    "    \n",
    "    total.append(one)"
   ]
  },
  {
   "cell_type": "code",
   "execution_count": 19,
   "metadata": {},
   "outputs": [
    {
     "data": {
      "text/plain": [
       "{'context': '<s>On October 8, 2015, a push by congressional Republicans to recruit Ryan to run to succeed John Boehner as Speaker of the House was initiated. Boehner had recently announced his resignation and stated his support for Kevin McCarthy to be his replacement, which received wide support among Republicans, including Ryan, who was set to officially nominate him. McCarthy withdrew his name from consideration on October 8 when it was apparent that the Freedom Caucus, a caucus of staunchly conservative House Republicans, would not support him. This led many Republicans to turn to Ryan as a compromise candidate. The push included a plea from Boehner, who reportedly told Ryan that he was the only person who could unite the House Republicans at a time of turmoil. Ryan released a statement that said, \"While I am grateful for the encouragement I\\'ve received, I will not be a candidate.\" But on October 9, close aides of Ryan confirmed that Ryan had reconsidered, and was considering the possibility of a run. Ryan confirmed on October 22 that he would seek the speakership after receiving the endorsements of two factions of House Republicans, including the conservative Freedom Caucus. Ryan, upon confirming his bid for the speakership, stated, \"I never thought I\\'d be speaker. But I pledged to you that if I could be a unifying figure, then I would serve -- I would go all in. After talking with so many of you, and hearing your words of encouragement, I believe we are ready to move forward as one, united team. And I am ready and eager to be our speaker.\" On October 29, Ryan was elected Speaker with 236 votes. He is the youngest Speaker since James G. Blaine in 1875. {hl_token}CANNOTANSWER{hl_token}',\n",
       " 'dialog_history': 'CANNOTANSWER What policies did he help implement? Boehner had recently announced his resignation and stated his support for Kevin McCarthy to be his replacement, Can you tell me more about his bid for the seat? <SEP>CANNOTANSWER<What></s>',\n",
       " 'label': '<s>Why did he resign?</s>',\n",
       " 'base-prediction': '<s>Did he win the election?</s>',\n",
       " 'medium-prediction': '<s>What did he do after the elections?</s>'}"
      ]
     },
     "execution_count": 19,
     "metadata": {},
     "output_type": "execute_result"
    }
   ],
   "source": [
    "total[50]"
   ]
  },
  {
   "cell_type": "code",
   "execution_count": 21,
   "metadata": {},
   "outputs": [],
   "source": [
    "with open(\"quac-gpt.json\", \"w\") as f:\n",
    "    json.dump(total, f, indent=2)"
   ]
  },
  {
   "cell_type": "code",
   "execution_count": null,
   "metadata": {},
   "outputs": [],
   "source": []
  },
  {
   "cell_type": "code",
   "execution_count": 14,
   "metadata": {},
   "outputs": [],
   "source": [
    "def process_context(context):\n",
    "    s = context.split(\"<SEP>\")\n",
    "    assert len(s)>1\n",
    "    p_context = s[0]\n",
    "    dialog_context = \"<SEP>\".join(s[1:])\n",
    "    return [p_context, dialog_context]"
   ]
  },
  {
   "cell_type": "code",
   "execution_count": 16,
   "metadata": {},
   "outputs": [
    {
     "data": {
      "text/plain": [
       "['<s>Branch was born on July 2, 1983, in Sedona, Arizona, to David and Peggy Branch. Her father is Irish, and her mother is of Dutch-Indonesian (\"Indo\") and French descent. Her siblings include an older half-brother named David and a younger sister named Nicole. Beginning to sing at the age of three, Branch enrolled in voice lessons at Northern Arizona University when she was eight, and received her first guitar for her fourteenth birthday. After teaching herself chords, she composed her first song \"Fallen\" within a week of receiving her guitar. She initially attended Sedona Red Rock High School, but finished the last two years of her high school education through home schooling so that she could focus on her music career. To support Branch\\'s interests, her parents helped her book local gigs in Sedona, Arizona, and later financed her independent album Broken Bracelet. Her set list at these gigs included covers of songs by Sheryl Crow, Lisa Loeb, Jewel, and Fleetwood Mac. In December 1999, she posted two of her songs on the Rolling Stone website, which caught the attention of both pop rock band Hanson and former Rolling Stone writer and Los Angeles record producer Jeff Rabhan, eventually leading to two gigs opening for Hanson in 2000. In June 2000, Branch self-produced Broken Bracelet, a compilation of songs she wrote when she was 14 and 15; the album was released on the independent record label Twin Dragon Records. Its title was inspired from a bracelet made by pop singer Jewel, given to Branch by musician Steve Poltz at a Lisa Loeb concert she attended. Poltz told Branch that \"when it breaks, you\\'ll be famous.\" The Broken Bracelet recordings were destroyed in the Nashville floods in May 2010. {hl_token}CANNOTANSWER{hl_token}',\n",
       " 'CANNOTANSWER What year did Michelle Branch\\'s single \"Everywhere\" come out? CANNOTANSWER When did Michelle Branch appear on Total Request Live? <SEP>CANNOTANSWER<What></s>']"
      ]
     },
     "execution_count": 16,
     "metadata": {},
     "output_type": "execute_result"
    }
   ],
   "source": [
    "process_context(a[\"context\"])"
   ]
  },
  {
   "cell_type": "code",
   "execution_count": null,
   "metadata": {},
   "outputs": [],
   "source": []
  }
 ],
 "metadata": {
  "kernelspec": {
   "display_name": "Python 3",
   "language": "python",
   "name": "python3"
  },
  "language_info": {
   "codemirror_mode": {
    "name": "ipython",
    "version": 3
   },
   "file_extension": ".py",
   "mimetype": "text/x-python",
   "name": "python",
   "nbconvert_exporter": "python",
   "pygments_lexer": "ipython3",
   "version": "3.7.4"
  }
 },
 "nbformat": 4,
 "nbformat_minor": 2
}
