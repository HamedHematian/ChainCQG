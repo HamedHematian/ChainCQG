{
 "cells": [
  {
   "cell_type": "code",
   "execution_count": 1,
   "metadata": {},
   "outputs": [],
   "source": [
    "import json\n",
    "import pickle\n",
    "with open(\"outputs/gpt2-base/quac_no_generated_text\", \"rb\") as f:\n",
    "    base = pickle.load(f)\n",
    "\n",
    "with open(\"outputs/gpt2-medium/quac_no_generated_text\", \"rb\") as f:\n",
    "    medium = pickle.load(f)"
   ]
  },
  {
   "cell_type": "code",
   "execution_count": 2,
   "metadata": {},
   "outputs": [
    {
     "data": {
      "text/plain": [
       "{'context': '<s>The diary gives a detailed account of Pepys\\' personal life. He liked wine, plays, and the company of other people. He also spent time evaluating his fortune and his place in the world. He was always curious and often acted on that curiosity, as he acted upon almost all his impulses. Periodically, he would resolve to devote more time to hard work instead of leisure. For example, in his entry for New Year\\'s Eve, 1661, he writes: \"I have newly taken a solemn oath about abstaining from plays and wine...\" The following months reveal his lapses to the reader; by 17 February, it is recorded, \"Here I drank wine upon necessity, being ill for the want of it.\" Pepys was one of the most important civil servants of his age, and was also a widely cultivated man, taking an interest in books, music, the theatre and science. He was passionately interested in music; he composed, sang, and played for pleasure, and even arranged music lessons for his servants. He played the lute, viol, violin, flageolet, recorder and spinet to varying degrees of proficiency. He was also a keen singer, performing at home, in coffee houses, and even in Westminster Abbey. He and his wife took flageolet lessons from master Thomas Greeting. He also taught his wife to sing and paid for dancing lessons for her (although these stopped when {hl_token}he became jealous of the dancing master).{hl_token} Pepys was known to be brutal to his servants, once beating a servant Jane with a broom until she cried. He kept a boy servant whom he frequently beat with a cane, a birch rod, a whip or a rope\\'s end.<SEP>He also spent time evaluating his fortune and his place in the world. Was he wealthy? He also taught his wife to sing and paid for dancing lessons for her (although these stopped when Did he have any other interest? <SEP>he became jealous of the dancing master).<What></s>',\n",
       " 'label': '<s>Why did the dancing lessons stop?</s>',\n",
       " 'prediction': '<s>What did he do with his money?</s>'}"
      ]
     },
     "execution_count": 2,
     "metadata": {},
     "output_type": "execute_result"
    }
   ],
   "source": [
    "base[10]"
   ]
  },
  {
   "cell_type": "code",
   "execution_count": 3,
   "metadata": {},
   "outputs": [
    {
     "data": {
      "text/plain": [
       "{'context': '<s>The diary gives a detailed account of Pepys\\' personal life. He liked wine, plays, and the company of other people. He also spent time evaluating his fortune and his place in the world. He was always curious and often acted on that curiosity, as he acted upon almost all his impulses. Periodically, he would resolve to devote more time to hard work instead of leisure. For example, in his entry for New Year\\'s Eve, 1661, he writes: \"I have newly taken a solemn oath about abstaining from plays and wine...\" The following months reveal his lapses to the reader; by 17 February, it is recorded, \"Here I drank wine upon necessity, being ill for the want of it.\" Pepys was one of the most important civil servants of his age, and was also a widely cultivated man, taking an interest in books, music, the theatre and science. He was passionately interested in music; he composed, sang, and played for pleasure, and even arranged music lessons for his servants. He played the lute, viol, violin, flageolet, recorder and spinet to varying degrees of proficiency. He was also a keen singer, performing at home, in coffee houses, and even in Westminster Abbey. He and his wife took flageolet lessons from master Thomas Greeting. He also taught his wife to sing and paid for dancing lessons for her (although these stopped when {hl_token}he became jealous of the dancing master).{hl_token} Pepys was known to be brutal to his servants, once beating a servant Jane with a broom until she cried. He kept a boy servant whom he frequently beat with a cane, a birch rod, a whip or a rope\\'s end.<SEP>He also spent time evaluating his fortune and his place in the world. Was he wealthy? He also taught his wife to sing and paid for dancing lessons for her (although these stopped when Did he have any other interest? <SEP>he became jealous of the dancing master).<What></s>',\n",
       " 'label': '<s>Why did the dancing lessons stop?</s>',\n",
       " 'prediction': '<s>What else did he do?</s>'}"
      ]
     },
     "execution_count": 3,
     "metadata": {},
     "output_type": "execute_result"
    }
   ],
   "source": [
    "medium[10]"
   ]
  },
  {
   "cell_type": "code",
   "execution_count": 5,
   "metadata": {},
   "outputs": [],
   "source": [
    "def process_context(context):\n",
    "    s = context.split(\"<SEP>\")\n",
    "    assert len(s)>1\n",
    "    p_context = s[0]\n",
    "    dialog_context = \"<SEP>\".join(s[1:])\n",
    "    return [p_context, dialog_context]\n",
    "\n",
    "total = []\n",
    "for a,b in zip(base, medium):\n",
    "    one = {}\n",
    "    assert a[\"context\"]==b[\"context\"]\n",
    "    assert a[\"label\"] == b[\"label\"]\n",
    "    [p_context, dialog_context] = process_context(a[\"context\"])\n",
    "    one[\"context\"] = p_context\n",
    "    one[\"dialog_history\"] = dialog_context\n",
    "    one[\"label\"] = a[\"label\"]\n",
    "    one[\"base-prediction\"] = a[\"prediction\"]\n",
    "    one[\"medium-prediction\"] = b[\"prediction\"]\n",
    "    \n",
    "    total.append(one)"
   ]
  },
  {
   "cell_type": "code",
   "execution_count": 6,
   "metadata": {},
   "outputs": [],
   "source": [
    "with open(\"quac-no-gpt.json\", \"w\") as f:\n",
    "    json.dump(total, f, indent=2)"
   ]
  },
  {
   "cell_type": "code",
   "execution_count": 7,
   "metadata": {},
   "outputs": [
    {
     "data": {
      "text/plain": [
       "{'context': '<s>In April 2010, along with actors Brian Cox and Eleanor Bron, McKellen appeared in a series of TV advertisements to support Age UK, the charity recently formed from the merger of Age Concern and Help the Aged. All three actors gave their time free of charge. A cricket fan since childhood, McKellen umpired in March 2011 for a charity cricket match in New Zealand to support earthquake victims of the February 2011 Christchurch earthquake. McKellen is an honorary board member for the New York and Washington, DC based organization Only Make Believe. Only Make Believe creates and performs interactive plays in children\\'s hospitals and care facilities. He was honoured by the organisation in 2012 and hosted their annual Make Believe on Broadway Gala in November 2013. He garnered publicity for the organisation by stripping down to his Lord of the Rings underwear on stage. {hl_token}McKellen also has a history of supporting individual theatres.{hl_token} While in New Zealand filming The Hobbit in 2012, he announced a special New Zealand tour \"Shakespeare, Tolkien, and You!\", with proceeds going to help save the Isaac Theatre Royal, which suffered extensive damage during the 2011 Christchurch earthquake. McKellen said he opted to help save the building as it was the last theatre he played in New Zealand (Waiting for Godot in 2010) and the locals\\' love for it made it a place worth supporting. In July 2017, he performed a new one-man show for a week at Park Theatre (London), donating the proceeds to the theatre.',\n",
       " 'dialog_history': \"McKellen is an honorary board member for the New York and Washington, DC based organization Did he do any other charity work? Only Make Believe creates and performs interactive plays in children's hospitals and care facilities. What does he do for them? <SEP>McKellen also has a history of supporting individual theatres.<Yes></s>\",\n",
       " 'label': '<s>Did he do any other charity work?</s>',\n",
       " 'base-prediction': '<s>Did he do anything else?</s>',\n",
       " 'medium-prediction': '<s>Did he do anything for other charities?</s>'}"
      ]
     },
     "execution_count": 7,
     "metadata": {},
     "output_type": "execute_result"
    }
   ],
   "source": [
    "total[3]"
   ]
  },
  {
   "cell_type": "code",
   "execution_count": 14,
   "metadata": {},
   "outputs": [],
   "source": []
  },
  {
   "cell_type": "code",
   "execution_count": 16,
   "metadata": {},
   "outputs": [
    {
     "data": {
      "text/plain": [
       "['<s>Branch was born on July 2, 1983, in Sedona, Arizona, to David and Peggy Branch. Her father is Irish, and her mother is of Dutch-Indonesian (\"Indo\") and French descent. Her siblings include an older half-brother named David and a younger sister named Nicole. Beginning to sing at the age of three, Branch enrolled in voice lessons at Northern Arizona University when she was eight, and received her first guitar for her fourteenth birthday. After teaching herself chords, she composed her first song \"Fallen\" within a week of receiving her guitar. She initially attended Sedona Red Rock High School, but finished the last two years of her high school education through home schooling so that she could focus on her music career. To support Branch\\'s interests, her parents helped her book local gigs in Sedona, Arizona, and later financed her independent album Broken Bracelet. Her set list at these gigs included covers of songs by Sheryl Crow, Lisa Loeb, Jewel, and Fleetwood Mac. In December 1999, she posted two of her songs on the Rolling Stone website, which caught the attention of both pop rock band Hanson and former Rolling Stone writer and Los Angeles record producer Jeff Rabhan, eventually leading to two gigs opening for Hanson in 2000. In June 2000, Branch self-produced Broken Bracelet, a compilation of songs she wrote when she was 14 and 15; the album was released on the independent record label Twin Dragon Records. Its title was inspired from a bracelet made by pop singer Jewel, given to Branch by musician Steve Poltz at a Lisa Loeb concert she attended. Poltz told Branch that \"when it breaks, you\\'ll be famous.\" The Broken Bracelet recordings were destroyed in the Nashville floods in May 2010. {hl_token}CANNOTANSWER{hl_token}',\n",
       " 'CANNOTANSWER What year did Michelle Branch\\'s single \"Everywhere\" come out? CANNOTANSWER When did Michelle Branch appear on Total Request Live? <SEP>CANNOTANSWER<What></s>']"
      ]
     },
     "execution_count": 16,
     "metadata": {},
     "output_type": "execute_result"
    }
   ],
   "source": [
    "process_context(a[\"context\"])"
   ]
  },
  {
   "cell_type": "code",
   "execution_count": null,
   "metadata": {},
   "outputs": [],
   "source": []
  }
 ],
 "metadata": {
  "kernelspec": {
   "display_name": "Python 3",
   "language": "python",
   "name": "python3"
  },
  "language_info": {
   "codemirror_mode": {
    "name": "ipython",
    "version": 3
   },
   "file_extension": ".py",
   "mimetype": "text/x-python",
   "name": "python",
   "nbconvert_exporter": "python",
   "pygments_lexer": "ipython3",
   "version": "3.7.4"
  }
 },
 "nbformat": 4,
 "nbformat_minor": 2
}
